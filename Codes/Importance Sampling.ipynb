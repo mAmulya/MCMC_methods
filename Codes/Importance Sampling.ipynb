{
 "cells": [
  {
   "cell_type": "code",
   "execution_count": 9,
   "metadata": {},
   "outputs": [],
   "source": [
    "import numpy as np\n",
    "import math\n",
    "import random\n",
    "from matplotlib import pyplot as plt\n",
    "from IPython.display import clear_output\n",
    "\n",
    "PI = 3.1415926\n",
    "e = 2.71828\n"
   ]
  },
  {
   "cell_type": "code",
   "execution_count": 10,
   "metadata": {},
   "outputs": [],
   "source": [
    "def f_of_x(x):\n",
    "    \"\"\"\n",
    "    This is the main function we want to integrate over.\n",
    "    Args:\n",
    "    - x (float) : input to function; must be in radians\n",
    "    Return:\n",
    "    - output of function f(x) (float)\n",
    "    \"\"\"\n",
    "    return (e**(-1*x))/(1+(x-1)**2)"
   ]
  },
  {
   "cell_type": "code",
   "execution_count": 11,
   "metadata": {},
   "outputs": [
    {
     "data": {
      "image/png": "[encoded data removed]",
      "text/plain": [
       "<Figure size 432x288 with 1 Axes>"
      ]
     },
     "metadata": {
      "needs_background": "light"
     },
     "output_type": "display_data"
    }
   ],
   "source": [
    "xs = [float(i/50) for i in range(int(50*PI*2))]\n",
    "ys = [f_of_x(x) for x in xs]\n",
    "plt.plot(xs,ys)\n",
    "plt.title(\"f(x)\");"
   ]
  },
  {
   "cell_type": "code",
   "execution_count": 12,
   "metadata": {},
   "outputs": [
    {
     "name": "stdout",
     "output_type": "stream",
     "text": [
      "Optimal Lambda: 1.6500000000000001\n",
      "Optimal Variance: 0.04268853642677872\n",
      "Error: 0.0020661204327622994\n"
     ]
    }
   ],
   "source": [
    "def g_of_x(x, A, lamda):\n",
    "    e = 2.71828\n",
    "    return A*math.pow(e, -1*lamda*x)\n",
    "\n",
    "def inverse_G_of_r(r, lamda):\n",
    "    return (-1 * math.log(float(r)))/lamda\n",
    "\n",
    "def get_IS_variance(lamda, num_samples):\n",
    "    A = lamda\n",
    "    int_max = 5\n",
    "    \n",
    "    # get sum of squares\n",
    "    running_total = 0\n",
    "    for i in range(num_samples):\n",
    "        x = get_rand_number(0, int_max)\n",
    "        running_total += (f_of_x(x)/g_of_x(x, A, lamda))**2\n",
    "    \n",
    "    sum_of_sqs = running_total / num_samples\n",
    "    \n",
    "    # get squared average\n",
    "    running_total = 0\n",
    "    for i in range(num_samples):\n",
    "        x = get_rand_number(0, int_max)\n",
    "        running_total += f_of_x(x)/g_of_x(x, A, lamda)\n",
    "    sq_ave = (running_total/num_samples)**2\n",
    "    \n",
    "    \n",
    "    return sum_of_sqs - sq_ave\n",
    "\n",
    "# get variance as a function of lambda by testing many\n",
    "# different lambdas\n",
    "\n",
    "test_lamdas = [i*0.05 for i in range(1, 61)]\n",
    "variances = []\n",
    "\n",
    "for i, lamda in enumerate(test_lamdas):\n",
    "    print(f\"lambda {i+1}/{len(test_lamdas)}: {lamda}\")\n",
    "    A = lamda\n",
    "    variances.append(get_IS_variance(lamda, 10000))\n",
    "    clear_output(wait=True)\n",
    "    \n",
    "optimal_lamda = test_lamdas[np.argmin(np.asarray(variances))]\n",
    "IS_variance = variances[np.argmin(np.asarray(variances))]\n",
    "\n",
    "print(f\"Optimal Lambda: {optimal_lamda}\")\n",
    "print(f\"Optimal Variance: {IS_variance}\")\n",
    "print(f\"Error: {(IS_variance/10000)**0.5}\")"
   ]
  },
  {
   "cell_type": "code",
   "execution_count": 13,
   "metadata": {},
   "outputs": [
    {
     "name": "stdout",
     "output_type": "stream",
     "text": [
      "Importance Sampling Approximation: 0.6945567812486738\n",
      "Variance: 0.04544894505293784\n",
      "Error: 0.002131875818450452\n"
     ]
    }
   ],
   "source": [
    "def importance_sampling_MC(lamda, num_samples):\n",
    "    A = lamda\n",
    "    \n",
    "    running_total = 0\n",
    "    for i in range(num_samples):\n",
    "        r = get_rand_number(0,1)\n",
    "        running_total += f_of_x(inverse_G_of_r(r, lamda=lamda))/g_of_x(inverse_G_of_r(r, lamda=lamda), A, lamda)\n",
    "    approximation = float(running_total/num_samples)\n",
    "    return approximation\n",
    "\n",
    "# run simulation\n",
    "num_samples = 10000\n",
    "approx = importance_sampling_MC(optimal_lamda, num_samples)\n",
    "variance = get_IS_variance(optimal_lamda, num_samples)\n",
    "error = (variance/num_samples)**0.5\n",
    "\n",
    "# display results\n",
    "print(f\"Importance Sampling Approximation: {approx}\")\n",
    "print(f\"Variance: {variance}\")\n",
    "print(f\"Error: {error}\")"
   ]
  }
 ],
 "metadata": {
  "kernelspec": {
   "display_name": "Python 3",
   "language": "python",
   "name": "python3"
  },
  "language_info": {
   "codemirror_mode": {
    "name": "ipython",
    "version": 3
   },
   "file_extension": ".py",
   "mimetype": "text/x-python",
   "name": "python",
   "nbconvert_exporter": "python",
   "pygments_lexer": "ipython3",
   "version": "3.6.5"
  }
 },
 "nbformat": 4,
 "nbformat_minor": 4
}
