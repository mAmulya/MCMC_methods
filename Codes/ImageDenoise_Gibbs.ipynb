{
 "cells": [
  {
   "cell_type": "code",
   "execution_count": 2,
   "metadata": {},
   "outputs": [],
   "source": [
    "import numpy as np\n",
    "import matplotlib.pyplot as plt\n",
    "import math"
   ]
  },
  {
   "cell_type": "code",
   "execution_count": 3,
   "metadata": {},
   "outputs": [],
   "source": [
    "def denoise_image(filename, burn_in_steps, total_samples, logfile):\n",
    "    posterior = get_posterior(filename, burn_in_steps, total_samples, logfile=logfile)\n",
    "    denoised = np.zeros(posterior.shape, dtype=np.float64)\n",
    "    denoised[posterior > 0.5] = 1\n",
    "    print(\"1 done\")\n",
    "    return denoised[1:-1, 1:-1]"
   ]
  },
  {
   "cell_type": "code",
   "execution_count": 4,
   "metadata": {},
   "outputs": [],
   "source": [
    "def load_image(filename):\n",
    "    my_img = plt.imread(filename)\n",
    "    img_gray = np.dot(my_img[..., :3], [0.2989, 0.5870, 0.1140])\n",
    "    img_gray = np.where(img_gray > 0.5, 1, -1)\n",
    "    img_padded = np.zeros([img_gray.shape[0] + 2, img_gray.shape[1] + 2])\n",
    "    img_padded[1:-1, 1:-1] = img_gray\n",
    "    print(\"2 done\")\n",
    "    return img_padded"
   ]
  },
  {
   "cell_type": "code",
   "execution_count": 5,
   "metadata": {},
   "outputs": [],
   "source": [
    "def get_posterior(filename, burn_in_steps, total_samples, logfile):\n",
    "    X = load_image(filename)\n",
    "    posterior = np.zeros(X.shape)\n",
    "    print(X.shape)\n",
    "    Y = np.random.choice([1, -1], size=X.shape)\n",
    "    energy_list = list()\n",
    "    for step in range(burn_in_steps + total_samples):\n",
    "        for i in range(1, Y.shape[0]-1):\n",
    "            for j in range(1, Y.shape[1]-1):\n",
    "                y = sample_y(i, j, Y, X)\n",
    "                Y[i, j] = y\n",
    "                if y == 1 and step >= burn_in_steps:\n",
    "                    posterior[i, j] += 1\n",
    "        energy = -np.sum(np.multiply(Y, X))*ITA-(np.sum(np.multiply(Y[:-1], Y[1:]))+np.sum(np.multiply(Y[:, :-1], Y[:, 1:])))*BETA\n",
    "        if step < burn_in_steps:\n",
    "            energy_list.append(str(step) + \"\\t\" + str(energy) + \"\\tB\")\n",
    "        else:\n",
    "            energy_list.append(str(step) + \"\\t\" + str(energy) + \"\\tS\")\n",
    "    posterior = posterior / total_samples\n",
    "\n",
    "    file = open(logfile, 'w')\n",
    "    for element in energy_list:\n",
    "        file.writelines(element)\n",
    "        file.write('\\n')\n",
    "    file.close()\n",
    "    print(\"3 done\")\n",
    "    return posterior"
   ]
  },
  {
   "cell_type": "code",
   "execution_count": 6,
   "metadata": {},
   "outputs": [],
   "source": [
    "def sample_y(i, j, Y, X):\n",
    "    markov_blanket = [Y[i - 1, j], Y[i, j - 1], Y[i, j + 1], Y[i + 1, j], X[i, j]]\n",
    "    w = ITA * markov_blanket[-1] + BETA * sum(markov_blanket[:4])\n",
    "    prob = 1 / (1 + math.exp(-2*w))\n",
    "    #print(\"4 done\")\n",
    "    return (np.random.rand() < prob) * 2 - 1"
   ]
  },
  {
   "cell_type": "code",
   "execution_count": 7,
   "metadata": {},
   "outputs": [],
   "source": [
    "def plot_energy(filename):\n",
    "    x = np.genfromtxt(filename, dtype=None, encoding='utf8')\n",
    "    its, energies, phases = zip(*x)\n",
    "    its = np.asarray(its)\n",
    "    energies = np.asarray(energies)\n",
    "    phases = np.asarray(phases)\n",
    "    burn_mask = (phases == 'B')\n",
    "    samp_mask = (phases == 'S')\n",
    "    assert np.sum(burn_mask) + np.sum(samp_mask) == len(x), 'Found bad phase'\n",
    "    its_burn, energies_burn = its[burn_mask], energies[burn_mask]\n",
    "    its_samp, energies_samp = its[samp_mask], energies[samp_mask]\n",
    "    p1, = plt.plot(its_burn, energies_burn, 'r')\n",
    "    p2, = plt.plot(its_samp, energies_samp, 'b')\n",
    "    plt.title(\"energy\")\n",
    "    plt.xlabel('iteration number')\n",
    "    plt.ylabel('energy')\n",
    "    plt.legend([p1, p2], ['burn in', 'sampling'])\n",
    "    plt.savefig('%s.png' % filename)\n",
    "    plt.close()"
   ]
  },
  {
   "cell_type": "code",
   "execution_count": 10,
   "metadata": {},
   "outputs": [],
   "source": [
    "def save_image(denoised_image):\n",
    "    print(\"5 done\")\n",
    "    plt.imshow(denoised_image, cmap='gray')\n",
    "    plt.title(\"denoised image\")\n",
    "    plt.savefig('denoise_image.png')\n",
    "    plt.close()"
   ]
  },
  {
   "cell_type": "code",
   "execution_count": 12,
   "metadata": {},
   "outputs": [
    {
     "name": "stdout",
     "output_type": "stream",
     "text": [
      "Started\n",
      "2 done\n",
      "(250, 554)\n",
      "3 done\n",
      "1 done\n",
      "done\n",
      "5 done\n"
     ]
    }
   ],
   "source": [
    "ITA = 1\n",
    "BETA = 1\n",
    "total_samples = 100\n",
    "burn_in_steps = 10\n",
    "logfile = \"log_energy\"\n",
    "print(\"Started\")\n",
    "denoised_img = denoise_image(\"img_no.png\", burn_in_steps=burn_in_steps, total_samples=total_samples, logfile=logfile)\n",
    "plot_energy(logfile)\n",
    "print(\"done\")\n",
    "save_image(denoised_img)"
   ]
  },
  {
   "cell_type": "code",
   "execution_count": null,
   "metadata": {},
   "outputs": [],
   "source": []
  }
 ],
 "metadata": {
  "kernelspec": {
   "display_name": "Python 3",
   "language": "python",
   "name": "python3"
  },
  "language_info": {
   "codemirror_mode": {
    "name": "ipython",
    "version": 3
   },
   "file_extension": ".py",
   "mimetype": "text/x-python",
   "name": "python",
   "nbconvert_exporter": "python",
   "pygments_lexer": "ipython3",
   "version": "3.6.5"
  }
 },
 "nbformat": 4,
 "nbformat_minor": 4
}
